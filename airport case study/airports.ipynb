{
 "cells": [
  {
   "cell_type": "code",
   "execution_count": null,
   "metadata": {},
   "outputs": [],
   "source": [
    "import pandas as pd\n",
    "import os\n",
    "import sys\n",
    "import numpy as np"
   ]
  },
  {
   "cell_type": "code",
   "execution_count": null,
   "metadata": {},
   "outputs": [],
   "source": [
    "folium_path = \"/Library/Frameworks/Python.framework/Versions/3.11/lib/python3.11/site-packages\"\n",
    "if folium_path not in sys.path:\n",
    "    sys.path.append(folium_path)"
   ]
  },
  {
   "cell_type": "code",
   "execution_count": null,
   "metadata": {},
   "outputs": [],
   "source": [
    "import folium\n",
    "from folium.plugins import MeasureControl"
   ]
  },
  {
   "cell_type": "markdown",
   "metadata": {},
   "source": [
    "# Helper functions"
   ]
  },
  {
   "cell_type": "code",
   "execution_count": null,
   "metadata": {},
   "outputs": [],
   "source": [
    "def plot_map_with_hollow_radii(df, country, loc_type):\n",
    "    # Filter dataframe by country and type\n",
    "    filtered_df = df[(df['country_name'] == country) & (df['type'] == loc_type)]\n",
    "    \n",
    "    if filtered_df.empty:\n",
    "        print(f\"No data found for country '{country}' and type '{loc_type}'\")\n",
    "        return None\n",
    "    \n",
    "    # Get the mean latitude and longitude for the initial map location\n",
    "    center_lat = filtered_df['latitude_deg'].mean()\n",
    "    center_lon = filtered_df['longitude_deg'].mean()\n",
    "    \n",
    "    # Create a folium map centered at the mean location\n",
    "    folium_map = folium.Map(location=[center_lat, center_lon], zoom_start=6)\n",
    "    \n",
    "    # Add markers and hollow circles for each point in the filtered dataframe\n",
    "    for _, row in filtered_df.iterrows():\n",
    "        # Add marker\n",
    "        folium.Marker(\n",
    "            location=[row['latitude_deg'], row['longitude_deg']],\n",
    "            popup=f\"Location: {row['latitude_deg']}, {row['longitude_deg']}\"\n",
    "        ).add_to(folium_map)\n",
    "        \n",
    "        # Add red circle with 200 km radius, no fill\n",
    "        folium.Circle(\n",
    "            radius= 200 * 1000,  # 200 km in meters\n",
    "            location=[row['latitude_deg'], row['longitude_deg']],\n",
    "            color='red',\n",
    "            fill=False,  # No fill for visibility\n",
    "            weight=1\n",
    "        ).add_to(folium_map)\n",
    "        \"\"\"\n",
    "        # Add blue circle with 800 km radius, no fill\n",
    "        folium.Circle(\n",
    "            radius=800, #* 1000,  # 800 km in meters\n",
    "            location=[row['latitude_deg'], row['longitude_deg']],\n",
    "            color='blue',\n",
    "            fill=False  # No fill for visibility\n",
    "        ).add_to(folium_map)\n",
    "        \"\"\"\n",
    "    # Add a measuring tool for interactivity\n",
    "    folium_map.add_child(MeasureControl())\n",
    "    \n",
    "    return folium_map\n",
    "\n",
    "def haversine_vectorized(lat1, lon1, lat2, lon2):\n",
    "    # Radius of Earth in kilometers\n",
    "    R = 6371.0\n",
    "    \n",
    "    # Convert to radians\n",
    "    lat1, lon1, lat2, lon2 = map(np.radians, [lat1, lon1, lat2, lon2])\n",
    "    \n",
    "    dlat = lat2 - lat1\n",
    "    dlon = lon2 - lon1\n",
    "    \n",
    "    # Haversine formula\n",
    "    a = np.sin(dlat/2)**2 + np.cos(lat1) * np.cos(lat2) * np.sin(dlon/2)**2\n",
    "    c = 2 * np.arctan2(np.sqrt(a), np.sqrt(1 - a))\n",
    "    \n",
    "    # Distance\n",
    "    return R * c\n",
    "\n",
    "def add_nearby_count_vectorized(df, distance, countries):\n",
    "    # Initialize the nearby count column with zeros\n",
    "    title = str(distance) + \"km Airports\"\n",
    "    df[title] = 0\n",
    "    \n",
    "    # Iterate through countries in the list\n",
    "    for country in countries:\n",
    "        # Filter the dataframe for the given country\n",
    "        df_same_country = df[df['country_name'] == country]\n",
    "        print(country, \" - \", df_same_country.shape[0], \" airports\")\n",
    "        \n",
    "        if df_same_country.shape[0] > 1:\n",
    "            # Extract latitudes and longitudes for vectorized computation\n",
    "            latitudes = df_same_country['latitude_deg'].values\n",
    "            longitudes = df_same_country['longitude_deg'].values\n",
    "            \n",
    "            # Create a grid of differences (pairwise haversine distances)\n",
    "            lat1, lat2 = np.meshgrid(latitudes, latitudes)\n",
    "            lon1, lon2 = np.meshgrid(longitudes, longitudes)\n",
    "            distances = haversine_vectorized(lat1, lon1, lat2, lon2)\n",
    "            \n",
    "            # Count rows where the distance is within the radius (excluding itself)\n",
    "            counts = np.sum((distances <= distance) & (distances > 0), axis=1)\n",
    "            \n",
    "            # Update the count in the original dataframe\n",
    "            df.loc[df['country_name'] == country, title] = counts\n",
    "    \n",
    "    return df"
   ]
  },
  {
   "cell_type": "markdown",
   "metadata": {},
   "source": [
    "# Create pd.DataFrame form ourairports.com csv download\n",
    "https://ourairports.com/"
   ]
  },
  {
   "cell_type": "code",
   "execution_count": null,
   "metadata": {},
   "outputs": [],
   "source": [
    "cwd_path = os.getcwd()\n",
    "cwd_files = os.listdir()"
   ]
  },
  {
   "cell_type": "code",
   "execution_count": null,
   "metadata": {},
   "outputs": [],
   "source": [
    "cwd_files"
   ]
  },
  {
   "cell_type": "code",
   "execution_count": null,
   "metadata": {},
   "outputs": [],
   "source": [
    "csv_path = os.path.join(cwd_path,'world-airports.csv')\n",
    "df = pd.read_csv(csv_path)"
   ]
  },
  {
   "cell_type": "code",
   "execution_count": null,
   "metadata": {},
   "outputs": [],
   "source": [
    "df.columns"
   ]
  },
  {
   "cell_type": "code",
   "execution_count": null,
   "metadata": {},
   "outputs": [],
   "source": [
    "df"
   ]
  },
  {
   "cell_type": "code",
   "execution_count": null,
   "metadata": {},
   "outputs": [],
   "source": [
    "df['country_name'].unique()"
   ]
  },
  {
   "cell_type": "markdown",
   "metadata": {},
   "source": [
    "# Append columns: \n",
    "1. #### Number of airports within 200 km in same country\n",
    "2. #### Number of airports within 800 km in same country"
   ]
  },
  {
   "cell_type": "code",
   "execution_count": null,
   "metadata": {},
   "outputs": [],
   "source": [
    "# Count how many countries are within 500 km of Sweden\n",
    "country_list = ['Sweden','Norway','Finland','Denmark','Germany','United Kingdom','United States']\n",
    "df = add_nearby_count_vectorized(df=df, distance=200, countries=country_list)\n",
    "df = add_nearby_count_vectorized(df=df, distance=800, countries=country_list)"
   ]
  },
  {
   "cell_type": "code",
   "execution_count": null,
   "metadata": {},
   "outputs": [],
   "source": [
    "df.loc[result['country_name']=='Sweden']"
   ]
  },
  {
   "cell_type": "markdown",
   "metadata": {},
   "source": [
    "# Create dataframe with airport counts for given countries"
   ]
  },
  {
   "cell_type": "code",
   "execution_count": null,
   "metadata": {},
   "outputs": [],
   "source": [
    "countries = df['country_name'].unique()\n",
    "\n",
    "closed = []\n",
    "small = []\n",
    "medium = []\n",
    "large = []\n",
    "airports200 = []\n",
    "airports800 = []\n",
    "\n",
    "for country in countries:\n",
    "    closed.append(df.loc[(df['type'] == 'closed') & (df['country_name'] == country)].shape[0])\n",
    "    small.append(df.loc[(df['type'] == 'small_airport') & (df['country_name'] == country)].shape[0])\n",
    "    medium.append(df.loc[(df['type'] == 'medium_airport') & (df['country_name'] == country)].shape[0])\n",
    "    large.append(df.loc[(df['type'] == 'large_airport') & (df['country_name'] == country)].shape[0])\n",
    "    airports200.append(df.loc[(df['country_name'] == country) & (df['200km Airports'] > 0)].shape[0])\n",
    "    airports800.append(df.loc[(df['country_name'] == country) & (df['800km Airports'] > 0)].shape[0])"
   ]
  },
  {
   "cell_type": "code",
   "execution_count": null,
   "metadata": {},
   "outputs": [],
   "source": [
    "airport_counts = pd.DataFrame({ 'Country':countries,\n",
    "                                'Large Airports':large,\n",
    "                                'Medium Airports':medium,\n",
    "                                'Small Airports':small,\n",
    "                                'Closed Airports':closed,\n",
    "                                '200 km Airports':airports200,\n",
    "                                '800 km Airports':airports800\n",
    "                              })"
   ]
  },
  {
   "cell_type": "code",
   "execution_count": null,
   "metadata": {},
   "outputs": [],
   "source": [
    "airport_counts.loc[airport_counts['Closed Airports']>0]"
   ]
  },
  {
   "cell_type": "code",
   "execution_count": null,
   "metadata": {},
   "outputs": [],
   "source": [
    "airport_counts.loc[(airport_counts['Country']=='Sweden') |\n",
    "                   (airport_counts['Country']=='Norway') |\n",
    "                   (airport_counts['Country']=='Finland') |\n",
    "                   (airport_counts['Country']=='Denmark') |\n",
    "                   (airport_counts['Country']=='Germany') |\n",
    "                   (airport_counts['Country']=='United Kingdom') |\n",
    "                   (airport_counts['Country']=='United States')\n",
    "                  ]"
   ]
  },
  {
   "cell_type": "markdown",
   "metadata": {},
   "source": [
    "# Closed airports in Sweden with Folium"
   ]
  },
  {
   "cell_type": "code",
   "execution_count": null,
   "metadata": {},
   "outputs": [],
   "source": [
    "folium_map = plot_map_with_hollow_radii(df, 'Sweden', 'closed')"
   ]
  },
  {
   "cell_type": "code",
   "execution_count": null,
   "metadata": {},
   "outputs": [],
   "source": [
    "folium_map"
   ]
  },
  {
   "cell_type": "markdown",
   "metadata": {},
   "source": [
    "# Closed airports in the United States with Folium"
   ]
  },
  {
   "cell_type": "code",
   "execution_count": null,
   "metadata": {},
   "outputs": [],
   "source": [
    "folium_map_US = plot_map_with_hollow_radii(df, 'Sweden', 'small_airport')"
   ]
  },
  {
   "cell_type": "code",
   "execution_count": null,
   "metadata": {},
   "outputs": [],
   "source": [
    "folium_map_US"
   ]
  },
  {
   "cell_type": "code",
   "execution_count": null,
   "metadata": {},
   "outputs": [],
   "source": []
  }
 ],
 "metadata": {
  "kernelspec": {
   "display_name": "Python 3",
   "language": "python",
   "name": "python3"
  },
  "language_info": {
   "codemirror_mode": {
    "name": "ipython",
    "version": 3
   },
   "file_extension": ".py",
   "mimetype": "text/x-python",
   "name": "python",
   "nbconvert_exporter": "python",
   "pygments_lexer": "ipython3",
   "version": "3.8.5"
  }
 },
 "nbformat": 4,
 "nbformat_minor": 4
}
